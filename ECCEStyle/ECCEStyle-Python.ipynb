{
 "cells": [
  {
   "cell_type": "markdown",
   "id": "5ada731a-5e14-45ca-a1e7-fd0aa3985ea0",
   "metadata": {},
   "source": [
    "This is example macros of using the ECCE style defined in ROOT environment but used in plotting python numpy arrays"
   ]
  },
  {
   "cell_type": "code",
   "execution_count": 1,
   "id": "f91976a0-d135-452c-b853-fbf93bca1721",
   "metadata": {},
   "outputs": [],
   "source": [
    "# imports to write dynamic markdown contents\n",
    "import os\n",
    "from IPython.display import display, Markdown, Latex\n",
    "from IPython.display import HTML"
   ]
  },
  {
   "cell_type": "code",
   "execution_count": 2,
   "id": "8d0c4639-5087-4647-a134-af26501a69fd",
   "metadata": {},
   "outputs": [
    {
     "data": {
      "text/markdown": [
       "*For the result HTML page:* "
      ],
      "text/plain": [
       "<IPython.core.display.Markdown object>"
      ]
     },
     "metadata": {},
     "output_type": "display_data"
    },
    {
     "data": {
      "text/html": [
       "<script>\n",
       "code_show=false; \n",
       "function code_toggle() {\n",
       " if (code_show){\n",
       " $('div.input').hide();\n",
       " } else {\n",
       " $('div.input').show();\n",
       " }\n",
       " code_show = !code_show\n",
       "} \n",
       "$( document ).ready(code_toggle);\n",
       "</script>\n",
       "<form action=\"javascript:code_toggle()\"><input type=\"submit\" value=\"Click here to toggle on/off the raw code.\"></form>"
      ],
      "text/plain": [
       "<IPython.core.display.HTML object>"
      ]
     },
     "execution_count": 2,
     "metadata": {},
     "output_type": "execute_result"
    }
   ],
   "source": [
    "# turn off/on code for the result HTML page\n",
    "\n",
    "display(Markdown('*For the result HTML page:* '))\n",
    "    \n",
    "HTML('''<script>\n",
    "code_show=false; \n",
    "function code_toggle() {\n",
    " if (code_show){\n",
    " $('div.input').hide();\n",
    " } else {\n",
    " $('div.input').show();\n",
    " }\n",
    " code_show = !code_show\n",
    "} \n",
    "$( document ).ready(code_toggle);\n",
    "</script>\n",
    "<form action=\"javascript:code_toggle()\"><input type=\"submit\" value=\"Click here to toggle on/off the raw code.\"></form>''')"
   ]
  },
  {
   "cell_type": "markdown",
   "id": "83f5e37a-b25f-43b5-95b1-e40b080e9e6f",
   "metadata": {},
   "source": [
    "# Environment setup\n",
    "\n",
    "## 1. `ROOT`"
   ]
  },
  {
   "cell_type": "code",
   "execution_count": 3,
   "id": "b9fd5be3-11f4-47d4-a08c-9fb6de46268c",
   "metadata": {},
   "outputs": [],
   "source": [
    "os.environ[\"ROOT_INCLUDE_PATH\"] =  os.getenv(\"ROOT_INCLUDE_PATH\") + \":/cvmfs/eic.opensciencegrid.org/ecce/gcc-8.3/release/release_new/new/rootmacros\""
   ]
  },
  {
   "cell_type": "markdown",
   "id": "72b200d0-f4a3-47c1-b51b-5e5dd9b8665e",
   "metadata": {},
   "source": [
    "First of all, you will need [`pyROOT`](https://root.cern/manual/python/). You can install ROOT directly or use the [ECCE Singularity Container (on your computer or lab farms)](https://github.com/ECCE-EIC/Singularity)\n",
    "\n",
    "Any 'ROOT' version should work. Here is example in sPHENIX environment for example."
   ]
  },
  {
   "cell_type": "code",
   "execution_count": 4,
   "id": "6b616c81-4f49-4818-8f77-aa21351376e0",
   "metadata": {},
   "outputs": [
    {
     "name": "stdout",
     "output_type": "stream",
     "text": [
      "Welcome to JupyROOT 6.24/06\n"
     ]
    },
    {
     "data": {
      "text/markdown": [
       "via sPHENIX software distribution at `/cvmfs/sphenix.sdcc.bnl.gov/gcc-8.3/release/release_new/new.4`"
      ],
      "text/plain": [
       "<IPython.core.display.Markdown object>"
      ]
     },
     "metadata": {},
     "output_type": "display_data"
    }
   ],
   "source": [
    "import ROOT\n",
    "\n",
    "OFFLINE_MAIN = os.getenv(\"OFFLINE_MAIN\")\n",
    "if OFFLINE_MAIN is not None:\n",
    "    display(Markdown(f\"via sPHENIX software distribution at `{OFFLINE_MAIN}`\"))"
   ]
  },
  {
   "cell_type": "markdown",
   "id": "8982830b-d740-4e95-909e-92f1906a87ed",
   "metadata": {},
   "source": [
    "## 2. ECCE style macros\n",
    "\n",
    "Next we need the `ECCEStyle` macros. You can either \n",
    "* load it from CVMFS with the ECCE software distribution as in input \\[3\\] above `/cvmfs/eic.opensciencegrid.org/ecce/gcc-8.3/release/release_new/new/rootmacros`\n",
    "* or simply download the files to local folder at [`ECCEStyle.C`](https://raw.githubusercontent.com/ECCE-EIC/macros/master/common/ECCEStyle.C) and [`ECCEStyle.h`](https://raw.githubusercontent.com/ECCE-EIC/macros/master/common/ECCEStyle.h)\n",
    "\n",
    "The following cell load the style file into `ROOT`"
   ]
  },
  {
   "cell_type": "code",
   "execution_count": 5,
   "id": "8b578721-c12b-4524-abcd-f9dda77139f9",
   "metadata": {},
   "outputs": [
    {
     "data": {
      "text/plain": [
       "0"
      ]
     },
     "execution_count": 5,
     "metadata": {},
     "output_type": "execute_result"
    },
    {
     "name": "stdout",
     "output_type": "stream",
     "text": [
      "ECCEStyle: Applying nominal settings.\n",
      "ECCEStyle: ROOT6 mode\n"
     ]
    }
   ],
   "source": [
    "ROOT.gInterpreter.Declare(\"\"\"\n",
    "#include <ECCEStyle.C>\n",
    "    \"\"\")\n",
    "\n",
    "ROOT.gInterpreter.ProcessLine(\"SetECCEStyle()\")"
   ]
  },
  {
   "cell_type": "markdown",
   "id": "850b8d02-e01d-451d-8c62-93439c40b207",
   "metadata": {},
   "source": [
    "# Make an example plot\n",
    "\n",
    "Start by preparing some random `numpy` array in *double precision* `dtype`"
   ]
  },
  {
   "cell_type": "code",
   "execution_count": 6,
   "id": "75ecdaac-6906-44f3-b254-b2c313a42192",
   "metadata": {},
   "outputs": [],
   "source": [
    "import numpy as np\n",
    "\n",
    "array_x = np.arange(1,11,1, np.dtype('float64'))\n",
    "array_y1 = np.arange(10,40,3, np.dtype('float64'))\n",
    "array_y2 = np.arange(40,10,-3, np.dtype('float64'))"
   ]
  },
  {
   "cell_type": "markdown",
   "id": "e7df2a6d-59d8-482b-a4f9-9db2d1334192",
   "metadata": {},
   "source": [
    "Here we make two [`TGraph`s](https://root.cern.ch/doc/master/classTGraph.html). You can also use graph with error bar [`TGraphErrors`](https://root.cern.ch/doc/master/classTGraphErrors.html)\n",
    "You can set marker/line style according to the above reference manual. "
   ]
  },
  {
   "cell_type": "code",
   "execution_count": 7,
   "id": "37ce6cae-cc39-4882-a520-2fa61037936b",
   "metadata": {},
   "outputs": [],
   "source": [
    "graph1 = ROOT.TGraph (len(array_x), array_x, array_y1);\n",
    "\n",
    "graph2 = ROOT.TGraph (len(array_x), array_x, array_y2);\n",
    "\n",
    "\n",
    "graph1.SetMarkerStyle(ROOT.kFullCircle)\n",
    "\n",
    "graph2.SetMarkerStyle(ROOT.kOpenCircle)"
   ]
  },
  {
   "cell_type": "markdown",
   "id": "f205e24a-3daa-41d5-a8e4-c60a03efb079",
   "metadata": {},
   "source": [
    "And this plot it with standard ECCE labeling. Results saved to PDF and PNG"
   ]
  },
  {
   "cell_type": "code",
   "execution_count": 8,
   "id": "b14982e4-4cdf-48a2-bd3b-f80ab8dc3db4",
   "metadata": {},
   "outputs": [
    {
     "name": "stderr",
     "output_type": "stream",
     "text": [
      "Info in <TCanvas::Print>: pdf file test_style.pdf has been created\n",
      "Info in <TCanvas::Print>: png file test_style.png has been created\n"
     ]
    },
    {
     "data": {
      "image/png": "[encoded data removed]",
      "text/plain": [
       "<IPython.core.display.Image object>"
      ]
     },
     "metadata": {},
     "output_type": "display_data"
    }
   ],
   "source": [
    "c = ROOT.TCanvas();\n",
    "\n",
    "c.DrawFrame(0,0,15,70, \";pT [GeV/c];Observable [A.U.]\")\n",
    "graph1.Draw(\"p\")\n",
    "graph2.Draw(\"p\")\n",
    "\n",
    "\n",
    "leg = ROOT.TLegend (.55,.70,.85,.93);\n",
    "leg.AddEntry(\"\",\"#it{#bf{ECCE}} Simulation\",\"\");\n",
    "leg.AddEntry(\"\",\"e+p 18+275 GeV\",\"\");\n",
    "leg.AddEntry(graph1,\"Data1\",\"p\");\n",
    "leg.AddEntry(graph2,\"Data2\",\"p\");\n",
    "leg.Draw();\n",
    "\n",
    "c.Print(\"test_style.pdf\");\n",
    "c.Print(\"test_style.png\");\n",
    "c.Draw();"
   ]
  }
 ],
 "metadata": {
  "kernelspec": {
   "display_name": "Python (sPHENIX)",
   "language": "python",
   "name": "sphenix-env"
  },
  "language_info": {
   "codemirror_mode": {
    "name": "ipython",
    "version": 3
   },
   "file_extension": ".py",
   "mimetype": "text/x-python",
   "name": "python",
   "nbconvert_exporter": "python",
   "pygments_lexer": "ipython3",
   "version": "3.8.0"
  }
 },
 "nbformat": 4,
 "nbformat_minor": 5
}
